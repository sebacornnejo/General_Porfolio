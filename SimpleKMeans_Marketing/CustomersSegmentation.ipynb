{
 "cells": [
  {
   "cell_type": "code",
   "execution_count": 1,
   "metadata": {},
   "outputs": [],
   "source": [
    "import numpy as np\n",
    "import pandas as pd\n",
    "import plotly.express as px\n",
    "import plotly.graph_objects as go"
   ]
  },
  {
   "cell_type": "code",
   "execution_count": 2,
   "metadata": {},
   "outputs": [
    {
     "data": {
      "text/html": [
       "<div>\n",
       "<style scoped>\n",
       "    .dataframe tbody tr th:only-of-type {\n",
       "        vertical-align: middle;\n",
       "    }\n",
       "\n",
       "    .dataframe tbody tr th {\n",
       "        vertical-align: top;\n",
       "    }\n",
       "\n",
       "    .dataframe thead th {\n",
       "        text-align: right;\n",
       "    }\n",
       "</style>\n",
       "<table border=\"1\" class=\"dataframe\">\n",
       "  <thead>\n",
       "    <tr style=\"text-align: right;\">\n",
       "      <th></th>\n",
       "      <th>CustomerID</th>\n",
       "      <th>Genre</th>\n",
       "      <th>Age</th>\n",
       "      <th>Annual Income (k$)</th>\n",
       "      <th>Spending Score (1-100)</th>\n",
       "    </tr>\n",
       "  </thead>\n",
       "  <tbody>\n",
       "    <tr>\n",
       "      <th>0</th>\n",
       "      <td>1</td>\n",
       "      <td>Male</td>\n",
       "      <td>19</td>\n",
       "      <td>15</td>\n",
       "      <td>39</td>\n",
       "    </tr>\n",
       "    <tr>\n",
       "      <th>1</th>\n",
       "      <td>2</td>\n",
       "      <td>Male</td>\n",
       "      <td>21</td>\n",
       "      <td>15</td>\n",
       "      <td>81</td>\n",
       "    </tr>\n",
       "    <tr>\n",
       "      <th>2</th>\n",
       "      <td>3</td>\n",
       "      <td>Female</td>\n",
       "      <td>20</td>\n",
       "      <td>16</td>\n",
       "      <td>6</td>\n",
       "    </tr>\n",
       "    <tr>\n",
       "      <th>3</th>\n",
       "      <td>4</td>\n",
       "      <td>Female</td>\n",
       "      <td>23</td>\n",
       "      <td>16</td>\n",
       "      <td>77</td>\n",
       "    </tr>\n",
       "    <tr>\n",
       "      <th>4</th>\n",
       "      <td>5</td>\n",
       "      <td>Female</td>\n",
       "      <td>31</td>\n",
       "      <td>17</td>\n",
       "      <td>40</td>\n",
       "    </tr>\n",
       "    <tr>\n",
       "      <th>5</th>\n",
       "      <td>6</td>\n",
       "      <td>Female</td>\n",
       "      <td>22</td>\n",
       "      <td>17</td>\n",
       "      <td>76</td>\n",
       "    </tr>\n",
       "    <tr>\n",
       "      <th>6</th>\n",
       "      <td>7</td>\n",
       "      <td>Female</td>\n",
       "      <td>35</td>\n",
       "      <td>18</td>\n",
       "      <td>6</td>\n",
       "    </tr>\n",
       "    <tr>\n",
       "      <th>7</th>\n",
       "      <td>8</td>\n",
       "      <td>Female</td>\n",
       "      <td>23</td>\n",
       "      <td>18</td>\n",
       "      <td>94</td>\n",
       "    </tr>\n",
       "    <tr>\n",
       "      <th>8</th>\n",
       "      <td>9</td>\n",
       "      <td>Male</td>\n",
       "      <td>64</td>\n",
       "      <td>19</td>\n",
       "      <td>3</td>\n",
       "    </tr>\n",
       "    <tr>\n",
       "      <th>9</th>\n",
       "      <td>10</td>\n",
       "      <td>Female</td>\n",
       "      <td>30</td>\n",
       "      <td>19</td>\n",
       "      <td>72</td>\n",
       "    </tr>\n",
       "  </tbody>\n",
       "</table>\n",
       "</div>"
      ],
      "text/plain": [
       "   CustomerID   Genre  Age  Annual Income (k$)  Spending Score (1-100)\n",
       "0           1    Male   19                  15                      39\n",
       "1           2    Male   21                  15                      81\n",
       "2           3  Female   20                  16                       6\n",
       "3           4  Female   23                  16                      77\n",
       "4           5  Female   31                  17                      40\n",
       "5           6  Female   22                  17                      76\n",
       "6           7  Female   35                  18                       6\n",
       "7           8  Female   23                  18                      94\n",
       "8           9    Male   64                  19                       3\n",
       "9          10  Female   30                  19                      72"
      ]
     },
     "execution_count": 2,
     "metadata": {},
     "output_type": "execute_result"
    }
   ],
   "source": [
    "dataset = pd.read_csv('Mall_Customers.csv')\n",
    "dataset.head(10)"
   ]
  },
  {
   "cell_type": "code",
   "execution_count": 3,
   "metadata": {},
   "outputs": [],
   "source": [
    "X = dataset.iloc[:, [3, 4]].values"
   ]
  },
  {
   "cell_type": "code",
   "execution_count": 4,
   "metadata": {},
   "outputs": [],
   "source": [
    "from sklearn.cluster import KMeans\n",
    "import warnings\n",
    "warnings.simplefilter(\"ignore\")\n",
    "\n",
    "#---------------------------------------------------------------------------------------------------------------------------------------------#\n",
    "# Estimation of Within-Cluster-Sum-of-Squares (WCSS) for different numbers of clusters\n",
    "#---------------------------------------------------------------------------------------------------------------------------------------------#\n",
    "wcss = []\n",
    "#---------------------------------------------------------------------------------------------------------------------------------------------#\n",
    "# Iterate over a range of cluster numbers (1 to 14)\n",
    "#---------------------------------------------------------------------------------------------------------------------------------------------#\n",
    "for i in range(1, 15):\n",
    "#---------------------------------------------------------------------------------------------------------------------------------------------#\n",
    "    # Create a KMeans model with 'i' clusters using k-means++ initialization\n",
    "#---------------------------------------------------------------------------------------------------------------------------------------------#\n",
    "    kmeans = KMeans(n_clusters = i, init = 'k-means++', random_state = 0)\n",
    "#---------------------------------------------------------------------------------------------------------------------------------------------#\n",
    "    # Fit the model to the data and compute the WCSS\n",
    "#---------------------------------------------------------------------------------------------------------------------------------------------#\n",
    "    kmeans.fit(X)\n",
    "    wcss.append(kmeans.inertia_)\n",
    "#---------------------------------------------------------------------------------------------------------------------------------------------#\n",
    "# After running this code, typically plot the wcss values and visually inspect the plot to identify the optimal number of clusters for the \n",
    "# dataset. The optimal number of clusters is often chosen at the \"elbow\" point where the reduction in WCSS starts to diminish.\n",
    "#---------------------------------------------------------------------------------------------------------------------------------------------#"
   ]
  },
  {
   "cell_type": "code",
   "execution_count": 5,
   "metadata": {},
   "outputs": [
    {
     "data": {
      "text/plain": [
       "5"
      ]
     },
     "execution_count": 5,
     "metadata": {},
     "output_type": "execute_result"
    }
   ],
   "source": [
    "#---------------------------------------------------------------------------------------------------------------------------------------------#\n",
    "# However, it is generally difficult to visually estimate what the appropriate value is. Using the kneed library, the code automatically \n",
    "# determines the optimal number of clusters based on the knee/elbow point in the WCSS plot. This provides a more objective and automated \n",
    "# approach to selecting the appropriate number of clusters for your dataset.\n",
    "#---------------------------------------------------------------------------------------------------------------------------------------------#\n",
    "from kneed import KneeLocator\n",
    "# Use the KneeLocator to identify the elbow point in the WCSS plot\n",
    "kneedle = KneeLocator(range(1,15), wcss, curve = 'convex', direction = 'decreasing')\n",
    "elbow_point = kneedle.elbow\n",
    "elbow_point"
   ]
  },
  {
   "cell_type": "code",
   "execution_count": 6,
   "metadata": {},
   "outputs": [
    {
     "data": {
      "application/vnd.plotly.v1+json": {
       "config": {
        "plotlyServerURL": "https://plot.ly"
       },
       "data": [
        {
         "hovertemplate": "<b>Nº Clusters:</b> %{x}<br><b>WCSS:</b> %{y}",
         "legendgroup": "",
         "line": {
          "color": "#6331C5",
          "dash": "solid",
          "shape": "linear",
          "width": 2
         },
         "marker": {
          "color": "#6331C5",
          "line": {
           "color": "#F2F2F2",
           "width": 0.8
          },
          "size": 12,
          "symbol": "circle"
         },
         "mode": "lines+markers",
         "name": "",
         "orientation": "v",
         "showlegend": false,
         "type": "scatter",
         "x": [
          1,
          2,
          3,
          4,
          5,
          6,
          7,
          8,
          9,
          10,
          11,
          12,
          13,
          14
         ],
         "xaxis": "x",
         "y": [
          269981.28,
          181363.595959596,
          106348.37306211118,
          73679.78903948836,
          44448.45544793371,
          37265.86520484346,
          30259.657207285465,
          25050.832307547527,
          21862.09267218289,
          19657.783608703958,
          17584.589416163646,
          16032.113097679265,
          14523.258112983112,
          13000.92742551566
         ],
         "yaxis": "y"
        },
        {
         "legendgroup": "elbow",
         "line": {
          "color": "#12BF80",
          "dash": "dash",
          "width": 2
         },
         "mode": "lines",
         "name": "<b>Best Elbow</b>",
         "type": "scatter",
         "x": [
          null
         ],
         "y": [
          null
         ]
        }
       ],
       "layout": {
        "font": {
         "color": "#F2F2F2",
         "family": "Montserrat"
        },
        "legend": {
         "bgcolor": "rgba(255, 255, 255, 0.5)",
         "font": {
          "color": "#262626"
         },
         "orientation": "h",
         "tracegroupgap": 0,
         "x": 0.005,
         "y": 0.31
        },
        "margin": {
         "t": 60
        },
        "shapes": [
         {
          "layer": "below",
          "legendgroup": "elbow",
          "line": {
           "color": "#12BF80",
           "dash": "dash",
           "width": 2
          },
          "name": "Best Elbow",
          "type": "line",
          "x0": 5,
          "x1": 5,
          "y0": 0,
          "y1": 44448.45544793371
         },
         {
          "layer": "below",
          "line": {
           "color": "#12BF80",
           "dash": "dash",
           "width": 2
          },
          "type": "line",
          "x0": 5,
          "x1": 0,
          "y0": 44448.45544793371,
          "y1": 44448.45544793371
         }
        ],
        "template": {
         "data": {
          "bar": [
           {
            "error_x": {
             "color": "#f2f5fa"
            },
            "error_y": {
             "color": "#f2f5fa"
            },
            "marker": {
             "line": {
              "color": "rgb(17,17,17)",
              "width": 0.5
             },
             "pattern": {
              "fillmode": "overlay",
              "size": 10,
              "solidity": 0.2
             }
            },
            "type": "bar"
           }
          ],
          "barpolar": [
           {
            "marker": {
             "line": {
              "color": "rgb(17,17,17)",
              "width": 0.5
             },
             "pattern": {
              "fillmode": "overlay",
              "size": 10,
              "solidity": 0.2
             }
            },
            "type": "barpolar"
           }
          ],
          "carpet": [
           {
            "aaxis": {
             "endlinecolor": "#A2B1C6",
             "gridcolor": "#506784",
             "linecolor": "#506784",
             "minorgridcolor": "#506784",
             "startlinecolor": "#A2B1C6"
            },
            "baxis": {
             "endlinecolor": "#A2B1C6",
             "gridcolor": "#506784",
             "linecolor": "#506784",
             "minorgridcolor": "#506784",
             "startlinecolor": "#A2B1C6"
            },
            "type": "carpet"
           }
          ],
          "choropleth": [
           {
            "colorbar": {
             "outlinewidth": 0,
             "ticks": ""
            },
            "type": "choropleth"
           }
          ],
          "contour": [
           {
            "colorbar": {
             "outlinewidth": 0,
             "ticks": ""
            },
            "colorscale": [
             [
              0,
              "#0d0887"
             ],
             [
              0.1111111111111111,
              "#46039f"
             ],
             [
              0.2222222222222222,
              "#7201a8"
             ],
             [
              0.3333333333333333,
              "#9c179e"
             ],
             [
              0.4444444444444444,
              "#bd3786"
             ],
             [
              0.5555555555555556,
              "#d8576b"
             ],
             [
              0.6666666666666666,
              "#ed7953"
             ],
             [
              0.7777777777777778,
              "#fb9f3a"
             ],
             [
              0.8888888888888888,
              "#fdca26"
             ],
             [
              1,
              "#f0f921"
             ]
            ],
            "type": "contour"
           }
          ],
          "contourcarpet": [
           {
            "colorbar": {
             "outlinewidth": 0,
             "ticks": ""
            },
            "type": "contourcarpet"
           }
          ],
          "heatmap": [
           {
            "colorbar": {
             "outlinewidth": 0,
             "ticks": ""
            },
            "colorscale": [
             [
              0,
              "#0d0887"
             ],
             [
              0.1111111111111111,
              "#46039f"
             ],
             [
              0.2222222222222222,
              "#7201a8"
             ],
             [
              0.3333333333333333,
              "#9c179e"
             ],
             [
              0.4444444444444444,
              "#bd3786"
             ],
             [
              0.5555555555555556,
              "#d8576b"
             ],
             [
              0.6666666666666666,
              "#ed7953"
             ],
             [
              0.7777777777777778,
              "#fb9f3a"
             ],
             [
              0.8888888888888888,
              "#fdca26"
             ],
             [
              1,
              "#f0f921"
             ]
            ],
            "type": "heatmap"
           }
          ],
          "heatmapgl": [
           {
            "colorbar": {
             "outlinewidth": 0,
             "ticks": ""
            },
            "colorscale": [
             [
              0,
              "#0d0887"
             ],
             [
              0.1111111111111111,
              "#46039f"
             ],
             [
              0.2222222222222222,
              "#7201a8"
             ],
             [
              0.3333333333333333,
              "#9c179e"
             ],
             [
              0.4444444444444444,
              "#bd3786"
             ],
             [
              0.5555555555555556,
              "#d8576b"
             ],
             [
              0.6666666666666666,
              "#ed7953"
             ],
             [
              0.7777777777777778,
              "#fb9f3a"
             ],
             [
              0.8888888888888888,
              "#fdca26"
             ],
             [
              1,
              "#f0f921"
             ]
            ],
            "type": "heatmapgl"
           }
          ],
          "histogram": [
           {
            "marker": {
             "pattern": {
              "fillmode": "overlay",
              "size": 10,
              "solidity": 0.2
             }
            },
            "type": "histogram"
           }
          ],
          "histogram2d": [
           {
            "colorbar": {
             "outlinewidth": 0,
             "ticks": ""
            },
            "colorscale": [
             [
              0,
              "#0d0887"
             ],
             [
              0.1111111111111111,
              "#46039f"
             ],
             [
              0.2222222222222222,
              "#7201a8"
             ],
             [
              0.3333333333333333,
              "#9c179e"
             ],
             [
              0.4444444444444444,
              "#bd3786"
             ],
             [
              0.5555555555555556,
              "#d8576b"
             ],
             [
              0.6666666666666666,
              "#ed7953"
             ],
             [
              0.7777777777777778,
              "#fb9f3a"
             ],
             [
              0.8888888888888888,
              "#fdca26"
             ],
             [
              1,
              "#f0f921"
             ]
            ],
            "type": "histogram2d"
           }
          ],
          "histogram2dcontour": [
           {
            "colorbar": {
             "outlinewidth": 0,
             "ticks": ""
            },
            "colorscale": [
             [
              0,
              "#0d0887"
             ],
             [
              0.1111111111111111,
              "#46039f"
             ],
             [
              0.2222222222222222,
              "#7201a8"
             ],
             [
              0.3333333333333333,
              "#9c179e"
             ],
             [
              0.4444444444444444,
              "#bd3786"
             ],
             [
              0.5555555555555556,
              "#d8576b"
             ],
             [
              0.6666666666666666,
              "#ed7953"
             ],
             [
              0.7777777777777778,
              "#fb9f3a"
             ],
             [
              0.8888888888888888,
              "#fdca26"
             ],
             [
              1,
              "#f0f921"
             ]
            ],
            "type": "histogram2dcontour"
           }
          ],
          "mesh3d": [
           {
            "colorbar": {
             "outlinewidth": 0,
             "ticks": ""
            },
            "type": "mesh3d"
           }
          ],
          "parcoords": [
           {
            "line": {
             "colorbar": {
              "outlinewidth": 0,
              "ticks": ""
             }
            },
            "type": "parcoords"
           }
          ],
          "pie": [
           {
            "automargin": true,
            "type": "pie"
           }
          ],
          "scatter": [
           {
            "marker": {
             "line": {
              "color": "#283442"
             }
            },
            "type": "scatter"
           }
          ],
          "scatter3d": [
           {
            "line": {
             "colorbar": {
              "outlinewidth": 0,
              "ticks": ""
             }
            },
            "marker": {
             "colorbar": {
              "outlinewidth": 0,
              "ticks": ""
             }
            },
            "type": "scatter3d"
           }
          ],
          "scattercarpet": [
           {
            "marker": {
             "colorbar": {
              "outlinewidth": 0,
              "ticks": ""
             }
            },
            "type": "scattercarpet"
           }
          ],
          "scattergeo": [
           {
            "marker": {
             "colorbar": {
              "outlinewidth": 0,
              "ticks": ""
             }
            },
            "type": "scattergeo"
           }
          ],
          "scattergl": [
           {
            "marker": {
             "line": {
              "color": "#283442"
             }
            },
            "type": "scattergl"
           }
          ],
          "scattermapbox": [
           {
            "marker": {
             "colorbar": {
              "outlinewidth": 0,
              "ticks": ""
             }
            },
            "type": "scattermapbox"
           }
          ],
          "scatterpolar": [
           {
            "marker": {
             "colorbar": {
              "outlinewidth": 0,
              "ticks": ""
             }
            },
            "type": "scatterpolar"
           }
          ],
          "scatterpolargl": [
           {
            "marker": {
             "colorbar": {
              "outlinewidth": 0,
              "ticks": ""
             }
            },
            "type": "scatterpolargl"
           }
          ],
          "scatterternary": [
           {
            "marker": {
             "colorbar": {
              "outlinewidth": 0,
              "ticks": ""
             }
            },
            "type": "scatterternary"
           }
          ],
          "surface": [
           {
            "colorbar": {
             "outlinewidth": 0,
             "ticks": ""
            },
            "colorscale": [
             [
              0,
              "#0d0887"
             ],
             [
              0.1111111111111111,
              "#46039f"
             ],
             [
              0.2222222222222222,
              "#7201a8"
             ],
             [
              0.3333333333333333,
              "#9c179e"
             ],
             [
              0.4444444444444444,
              "#bd3786"
             ],
             [
              0.5555555555555556,
              "#d8576b"
             ],
             [
              0.6666666666666666,
              "#ed7953"
             ],
             [
              0.7777777777777778,
              "#fb9f3a"
             ],
             [
              0.8888888888888888,
              "#fdca26"
             ],
             [
              1,
              "#f0f921"
             ]
            ],
            "type": "surface"
           }
          ],
          "table": [
           {
            "cells": {
             "fill": {
              "color": "#506784"
             },
             "line": {
              "color": "rgb(17,17,17)"
             }
            },
            "header": {
             "fill": {
              "color": "#2a3f5f"
             },
             "line": {
              "color": "rgb(17,17,17)"
             }
            },
            "type": "table"
           }
          ]
         },
         "layout": {
          "annotationdefaults": {
           "arrowcolor": "#f2f5fa",
           "arrowhead": 0,
           "arrowwidth": 1
          },
          "autotypenumbers": "strict",
          "coloraxis": {
           "colorbar": {
            "outlinewidth": 0,
            "ticks": ""
           }
          },
          "colorscale": {
           "diverging": [
            [
             0,
             "#8e0152"
            ],
            [
             0.1,
             "#c51b7d"
            ],
            [
             0.2,
             "#de77ae"
            ],
            [
             0.3,
             "#f1b6da"
            ],
            [
             0.4,
             "#fde0ef"
            ],
            [
             0.5,
             "#f7f7f7"
            ],
            [
             0.6,
             "#e6f5d0"
            ],
            [
             0.7,
             "#b8e186"
            ],
            [
             0.8,
             "#7fbc41"
            ],
            [
             0.9,
             "#4d9221"
            ],
            [
             1,
             "#276419"
            ]
           ],
           "sequential": [
            [
             0,
             "#0d0887"
            ],
            [
             0.1111111111111111,
             "#46039f"
            ],
            [
             0.2222222222222222,
             "#7201a8"
            ],
            [
             0.3333333333333333,
             "#9c179e"
            ],
            [
             0.4444444444444444,
             "#bd3786"
            ],
            [
             0.5555555555555556,
             "#d8576b"
            ],
            [
             0.6666666666666666,
             "#ed7953"
            ],
            [
             0.7777777777777778,
             "#fb9f3a"
            ],
            [
             0.8888888888888888,
             "#fdca26"
            ],
            [
             1,
             "#f0f921"
            ]
           ],
           "sequentialminus": [
            [
             0,
             "#0d0887"
            ],
            [
             0.1111111111111111,
             "#46039f"
            ],
            [
             0.2222222222222222,
             "#7201a8"
            ],
            [
             0.3333333333333333,
             "#9c179e"
            ],
            [
             0.4444444444444444,
             "#bd3786"
            ],
            [
             0.5555555555555556,
             "#d8576b"
            ],
            [
             0.6666666666666666,
             "#ed7953"
            ],
            [
             0.7777777777777778,
             "#fb9f3a"
            ],
            [
             0.8888888888888888,
             "#fdca26"
            ],
            [
             1,
             "#f0f921"
            ]
           ]
          },
          "colorway": [
           "#636efa",
           "#EF553B",
           "#00cc96",
           "#ab63fa",
           "#FFA15A",
           "#19d3f3",
           "#FF6692",
           "#B6E880",
           "#FF97FF",
           "#FECB52"
          ],
          "font": {
           "color": "#f2f5fa"
          },
          "geo": {
           "bgcolor": "rgb(17,17,17)",
           "lakecolor": "rgb(17,17,17)",
           "landcolor": "rgb(17,17,17)",
           "showlakes": true,
           "showland": true,
           "subunitcolor": "#506784"
          },
          "hoverlabel": {
           "align": "left"
          },
          "hovermode": "closest",
          "mapbox": {
           "style": "dark"
          },
          "paper_bgcolor": "rgb(17,17,17)",
          "plot_bgcolor": "rgb(17,17,17)",
          "polar": {
           "angularaxis": {
            "gridcolor": "#506784",
            "linecolor": "#506784",
            "ticks": ""
           },
           "bgcolor": "rgb(17,17,17)",
           "radialaxis": {
            "gridcolor": "#506784",
            "linecolor": "#506784",
            "ticks": ""
           }
          },
          "scene": {
           "xaxis": {
            "backgroundcolor": "rgb(17,17,17)",
            "gridcolor": "#506784",
            "gridwidth": 2,
            "linecolor": "#506784",
            "showbackground": true,
            "ticks": "",
            "zerolinecolor": "#C8D4E3"
           },
           "yaxis": {
            "backgroundcolor": "rgb(17,17,17)",
            "gridcolor": "#506784",
            "gridwidth": 2,
            "linecolor": "#506784",
            "showbackground": true,
            "ticks": "",
            "zerolinecolor": "#C8D4E3"
           },
           "zaxis": {
            "backgroundcolor": "rgb(17,17,17)",
            "gridcolor": "#506784",
            "gridwidth": 2,
            "linecolor": "#506784",
            "showbackground": true,
            "ticks": "",
            "zerolinecolor": "#C8D4E3"
           }
          },
          "shapedefaults": {
           "line": {
            "color": "#f2f5fa"
           }
          },
          "sliderdefaults": {
           "bgcolor": "#C8D4E3",
           "bordercolor": "rgb(17,17,17)",
           "borderwidth": 1,
           "tickwidth": 0
          },
          "ternary": {
           "aaxis": {
            "gridcolor": "#506784",
            "linecolor": "#506784",
            "ticks": ""
           },
           "baxis": {
            "gridcolor": "#506784",
            "linecolor": "#506784",
            "ticks": ""
           },
           "bgcolor": "rgb(17,17,17)",
           "caxis": {
            "gridcolor": "#506784",
            "linecolor": "#506784",
            "ticks": ""
           }
          },
          "title": {
           "x": 0.05
          },
          "updatemenudefaults": {
           "bgcolor": "#506784",
           "borderwidth": 0
          },
          "xaxis": {
           "automargin": true,
           "gridcolor": "#283442",
           "linecolor": "#506784",
           "ticks": "",
           "title": {
            "standoff": 15
           },
           "zerolinecolor": "#283442",
           "zerolinewidth": 2
          },
          "yaxis": {
           "automargin": true,
           "gridcolor": "#283442",
           "linecolor": "#506784",
           "ticks": "",
           "title": {
            "standoff": 15
           },
           "zerolinecolor": "#283442",
           "zerolinewidth": 2
          }
         }
        },
        "title": {
         "text": "<b style=\"font-size:24px\">The Elbow Method</b>"
        },
        "xaxis": {
         "anchor": "y",
         "domain": [
          0,
          1
         ],
         "title": {
          "text": "Number of Clusters"
         }
        },
        "yaxis": {
         "anchor": "x",
         "domain": [
          0,
          1
         ],
         "title": {
          "text": "WCSS"
         }
        }
       }
      }
     },
     "metadata": {},
     "output_type": "display_data"
    }
   ],
   "source": [
    "# Create a line plot for the Elbow Method\n",
    "fig1 = px.line(x=range(1, 15), y=wcss, markers=True, line_shape='linear')\n",
    "\n",
    "fig1.update_layout(\n",
    "    title='<b style=\"font-size:24px\">The Elbow Method</b>',\n",
    "    xaxis=dict(title='Number of Clusters'),\n",
    "    yaxis=dict(title='WCSS'),\n",
    "    font=dict(family='Montserrat', color='#F2F2F2'),\n",
    "    template='plotly_dark'\n",
    ")\n",
    "\n",
    "fig1.update_traces(\n",
    "    line=dict(color='#6331C5', width=2),\n",
    "    marker=dict(size=12, line=dict(color='#F2F2F2', width=0.8), color='#6331C5'),\n",
    "    hovertemplate=\"<b>Nº Clusters:</b> %{x}<br><b>WCSS:</b> %{y}\",\n",
    ")\n",
    "\n",
    "fig1.add_shape(\n",
    "    dict(\n",
    "        type=\"line\",\n",
    "        x0=elbow_point, x1=elbow_point,\n",
    "        y0=0, y1=wcss[elbow_point-1],\n",
    "        line=dict(color=\"#12BF80\", width=2, dash='dash'),\n",
    "        layer='below',\n",
    "        name='Best Elbow',\n",
    "        legendgroup='elbow'\n",
    "    )\n",
    ")\n",
    "\n",
    "fig1.add_shape(\n",
    "    dict(\n",
    "        type=\"line\",\n",
    "        x0=elbow_point, x1=0,\n",
    "        y0=wcss[elbow_point-1], y1=wcss[elbow_point-1],\n",
    "        line=dict(color=\"#12BF80\", width=2, dash='dash'),\n",
    "        layer='below'\n",
    "    )\n",
    ")\n",
    "\n",
    "fig1.add_trace(\n",
    "    go.Scatter(x=[None], y=[None], mode='lines', line=dict(color=\"#12BF80\", width=2, dash='dash'),\n",
    "               name='<b>Best Elbow</b>', legendgroup='elbow',)\n",
    ")\n",
    "\n",
    "fig1.update_layout(\n",
    "    legend=dict(x=0.005, y=0.31, bgcolor=\"rgba(255, 255, 255, 0.5)\", orientation=\"h\",font=dict(color=\"#262626\"))\n",
    ")\n",
    "\n",
    "fig1.show()\n",
    "\n",
    "\n",
    "#---------------------------------------------------------------------------------------------------------------------------------------------#\n",
    "# This plot visually represents the Elbow Method, making it easier to identify the optimal number of clusters based on the knee/elbow point in \n",
    "# the plot. The \"Best Elbow\" line and marker highlight the identified optimal number of clusters.\n",
    "#---------------------------------------------------------------------------------------------------------------------------------------------#"
   ]
  },
  {
   "cell_type": "code",
   "execution_count": 7,
   "metadata": {},
   "outputs": [],
   "source": [
    "# Create a KMeans model with the optimal number of clusters\n",
    "kmeansmodel = KMeans(n_clusters = elbow_point, init = 'k-means++', random_state = 0)\n",
    "y_kmeans = kmeansmodel.fit_predict(X)\n",
    "\n",
    "#---------------------------------------------------------------------------------------------------------------------------------------------#\n",
    "# Each element of y_kmeans represents the cluster to which the corresponding data point belongs. Using y_kmeans array to analyze the \n",
    "# clustering results or visualize the data points in the assigned clusters.\n",
    "#---------------------------------------------------------------------------------------------------------------------------------------------#\n"
   ]
  },
  {
   "cell_type": "code",
   "execution_count": 8,
   "metadata": {},
   "outputs": [
    {
     "data": {
      "application/vnd.plotly.v1+json": {
       "config": {
        "plotlyServerURL": "https://plot.ly"
       },
       "data": [
        {
         "hovertemplate": "<extra></extra><b>Cluster 0</b><br><b>Annual Income (k$):</b> %{x}<br><b>Spending Score (1-100)</b>: %{y}",
         "marker": {
          "color": "#6331C5",
          "line": {
           "color": "#F2F2F2",
           "width": 0.5
          },
          "size": 10
         },
         "mode": "markers",
         "name": "Cluster 0",
         "type": "scatter",
         "x": [
          61,
          57,
          54,
          54,
          54,
          54,
          54,
          54,
          54,
          54,
          54,
          54,
          54,
          57,
          54,
          50,
          49,
          49,
          48,
          48,
          48,
          48,
          48,
          48,
          47,
          47,
          46,
          50,
          46,
          58,
          59,
          65,
          65,
          65,
          64,
          64,
          63,
          63,
          63,
          63,
          63,
          63,
          62,
          58,
          62,
          62,
          62,
          62,
          67,
          61,
          60,
          60,
          60,
          60,
          60,
          60,
          59,
          62,
          65,
          46,
          44,
          46,
          76,
          72,
          71,
          69,
          39,
          67,
          67,
          40,
          67,
          40,
          40,
          42,
          42,
          43,
          43,
          40,
          43,
          44,
          43
         ],
         "y": [
          49,
          58,
          46,
          57,
          44,
          41,
          55,
          51,
          42,
          52,
          48,
          53,
          54,
          55,
          47,
          49,
          42,
          55,
          47,
          59,
          48,
          50,
          59,
          51,
          59,
          52,
          55,
          56,
          56,
          60,
          55,
          43,
          50,
          48,
          46,
          42,
          54,
          52,
          48,
          43,
          46,
          50,
          42,
          46,
          56,
          59,
          48,
          41,
          57,
          42,
          50,
          47,
          52,
          42,
          40,
          49,
          41,
          55,
          59,
          46,
          46,
          51,
          40,
          34,
          35,
          58,
          61,
          40,
          56,
          55,
          43,
          42,
          42,
          52,
          60,
          54,
          60,
          47,
          45,
          50,
          41
         ]
        },
        {
         "hovertemplate": "<extra></extra><b>Cluster 1</b><br><b>Annual Income (k$):</b> %{x}<br><b>Spending Score (1-100)</b>: %{y}",
         "marker": {
          "color": "#3F7AD8",
          "line": {
           "color": "#F2F2F2",
           "width": 0.5
          },
          "size": 10
         },
         "mode": "markers",
         "name": "Cluster 1",
         "type": "scatter",
         "x": [
          86,
          87,
          87,
          87,
          88,
          88,
          99,
          97,
          98,
          85,
          101,
          103,
          103,
          113,
          120,
          126,
          93,
          81,
          78,
          78,
          69,
          70,
          71,
          71,
          71,
          72,
          73,
          79,
          73,
          75,
          77,
          77,
          78,
          78,
          78,
          78,
          74,
          76,
          137
         ],
         "y": [
          95,
          63,
          75,
          92,
          86,
          69,
          97,
          86,
          88,
          75,
          68,
          85,
          69,
          91,
          79,
          74,
          90,
          93,
          76,
          73,
          91,
          77,
          95,
          75,
          75,
          71,
          88,
          83,
          73,
          93,
          97,
          74,
          90,
          88,
          89,
          78,
          72,
          87,
          83
         ]
        },
        {
         "hovertemplate": "<extra></extra><b>Cluster 2</b><br><b>Annual Income (k$):</b> %{x}<br><b>Spending Score (1-100)</b>: %{y}",
         "marker": {
          "color": "#12BF80",
          "line": {
           "color": "#F2F2F2",
           "width": 0.5
          },
          "size": 10
         },
         "mode": "markers",
         "name": "Cluster 2",
         "type": "scatter",
         "x": [
          85,
          97,
          75,
          81,
          93,
          88,
          77,
          74,
          77,
          78,
          87,
          78,
          78,
          78,
          87,
          88,
          78,
          98,
          78,
          126,
          86,
          120,
          70,
          113,
          79,
          103,
          71,
          103,
          71,
          137,
          101,
          99,
          73,
          73,
          87
         ],
         "y": [
          26,
          32,
          5,
          5,
          14,
          15,
          12,
          10,
          36,
          22,
          10,
          17,
          1,
          20,
          13,
          13,
          16,
          15,
          1,
          28,
          20,
          16,
          29,
          8,
          35,
          23,
          11,
          17,
          9,
          18,
          24,
          39,
          5,
          7,
          27
         ]
        },
        {
         "hovertemplate": "<extra></extra><b>Cluster 3</b><br><b>Annual Income (k$):</b> %{x}<br><b>Spending Score (1-100)</b>: %{y}",
         "marker": {
          "color": "#B715B7",
          "line": {
           "color": "#F2F2F2",
           "width": 0.5
          },
          "size": 10
         },
         "mode": "markers",
         "name": "Cluster 3",
         "type": "scatter",
         "x": [
          21,
          24,
          20,
          19,
          18,
          17,
          16,
          20,
          19,
          15,
          33,
          23,
          34,
          30,
          37,
          29,
          38,
          28,
          28,
          39,
          25,
          39,
          33
         ],
         "y": [
          35,
          35,
          15,
          3,
          6,
          40,
          6,
          13,
          14,
          39,
          4,
          29,
          17,
          4,
          26,
          31,
          35,
          32,
          14,
          36,
          5,
          28,
          14
         ]
        },
        {
         "hovertemplate": "<extra></extra><b>Cluster 4</b><br><b>Annual Income (k$):</b> %{x}<br><b>Spending Score (1-100)</b>: %{y}",
         "marker": {
          "color": "#F6CB53",
          "line": {
           "color": "#F2F2F2",
           "width": 0.5
          },
          "size": 10
         },
         "mode": "markers",
         "name": "Cluster 4",
         "type": "scatter",
         "x": [
          33,
          37,
          38,
          17,
          34,
          15,
          16,
          21,
          33,
          19,
          30,
          29,
          19,
          28,
          20,
          28,
          25,
          20,
          24,
          23,
          18,
          39
         ],
         "y": [
          81,
          75,
          92,
          76,
          73,
          81,
          77,
          66,
          92,
          72,
          73,
          87,
          99,
          61,
          77,
          82,
          73,
          79,
          73,
          98,
          94,
          65
         ]
        }
       ],
       "layout": {
        "font": {
         "color": "#F2F2F2",
         "family": "Montserrat"
        },
        "legend": {
         "bgcolor": "rgba(255, 255, 255, 0.5)",
         "font": {
          "color": "#262626"
         },
         "orientation": "h",
         "x": 0.63,
         "y": 1.13
        },
        "template": {
         "data": {
          "bar": [
           {
            "error_x": {
             "color": "#f2f5fa"
            },
            "error_y": {
             "color": "#f2f5fa"
            },
            "marker": {
             "line": {
              "color": "rgb(17,17,17)",
              "width": 0.5
             },
             "pattern": {
              "fillmode": "overlay",
              "size": 10,
              "solidity": 0.2
             }
            },
            "type": "bar"
           }
          ],
          "barpolar": [
           {
            "marker": {
             "line": {
              "color": "rgb(17,17,17)",
              "width": 0.5
             },
             "pattern": {
              "fillmode": "overlay",
              "size": 10,
              "solidity": 0.2
             }
            },
            "type": "barpolar"
           }
          ],
          "carpet": [
           {
            "aaxis": {
             "endlinecolor": "#A2B1C6",
             "gridcolor": "#506784",
             "linecolor": "#506784",
             "minorgridcolor": "#506784",
             "startlinecolor": "#A2B1C6"
            },
            "baxis": {
             "endlinecolor": "#A2B1C6",
             "gridcolor": "#506784",
             "linecolor": "#506784",
             "minorgridcolor": "#506784",
             "startlinecolor": "#A2B1C6"
            },
            "type": "carpet"
           }
          ],
          "choropleth": [
           {
            "colorbar": {
             "outlinewidth": 0,
             "ticks": ""
            },
            "type": "choropleth"
           }
          ],
          "contour": [
           {
            "colorbar": {
             "outlinewidth": 0,
             "ticks": ""
            },
            "colorscale": [
             [
              0,
              "#0d0887"
             ],
             [
              0.1111111111111111,
              "#46039f"
             ],
             [
              0.2222222222222222,
              "#7201a8"
             ],
             [
              0.3333333333333333,
              "#9c179e"
             ],
             [
              0.4444444444444444,
              "#bd3786"
             ],
             [
              0.5555555555555556,
              "#d8576b"
             ],
             [
              0.6666666666666666,
              "#ed7953"
             ],
             [
              0.7777777777777778,
              "#fb9f3a"
             ],
             [
              0.8888888888888888,
              "#fdca26"
             ],
             [
              1,
              "#f0f921"
             ]
            ],
            "type": "contour"
           }
          ],
          "contourcarpet": [
           {
            "colorbar": {
             "outlinewidth": 0,
             "ticks": ""
            },
            "type": "contourcarpet"
           }
          ],
          "heatmap": [
           {
            "colorbar": {
             "outlinewidth": 0,
             "ticks": ""
            },
            "colorscale": [
             [
              0,
              "#0d0887"
             ],
             [
              0.1111111111111111,
              "#46039f"
             ],
             [
              0.2222222222222222,
              "#7201a8"
             ],
             [
              0.3333333333333333,
              "#9c179e"
             ],
             [
              0.4444444444444444,
              "#bd3786"
             ],
             [
              0.5555555555555556,
              "#d8576b"
             ],
             [
              0.6666666666666666,
              "#ed7953"
             ],
             [
              0.7777777777777778,
              "#fb9f3a"
             ],
             [
              0.8888888888888888,
              "#fdca26"
             ],
             [
              1,
              "#f0f921"
             ]
            ],
            "type": "heatmap"
           }
          ],
          "heatmapgl": [
           {
            "colorbar": {
             "outlinewidth": 0,
             "ticks": ""
            },
            "colorscale": [
             [
              0,
              "#0d0887"
             ],
             [
              0.1111111111111111,
              "#46039f"
             ],
             [
              0.2222222222222222,
              "#7201a8"
             ],
             [
              0.3333333333333333,
              "#9c179e"
             ],
             [
              0.4444444444444444,
              "#bd3786"
             ],
             [
              0.5555555555555556,
              "#d8576b"
             ],
             [
              0.6666666666666666,
              "#ed7953"
             ],
             [
              0.7777777777777778,
              "#fb9f3a"
             ],
             [
              0.8888888888888888,
              "#fdca26"
             ],
             [
              1,
              "#f0f921"
             ]
            ],
            "type": "heatmapgl"
           }
          ],
          "histogram": [
           {
            "marker": {
             "pattern": {
              "fillmode": "overlay",
              "size": 10,
              "solidity": 0.2
             }
            },
            "type": "histogram"
           }
          ],
          "histogram2d": [
           {
            "colorbar": {
             "outlinewidth": 0,
             "ticks": ""
            },
            "colorscale": [
             [
              0,
              "#0d0887"
             ],
             [
              0.1111111111111111,
              "#46039f"
             ],
             [
              0.2222222222222222,
              "#7201a8"
             ],
             [
              0.3333333333333333,
              "#9c179e"
             ],
             [
              0.4444444444444444,
              "#bd3786"
             ],
             [
              0.5555555555555556,
              "#d8576b"
             ],
             [
              0.6666666666666666,
              "#ed7953"
             ],
             [
              0.7777777777777778,
              "#fb9f3a"
             ],
             [
              0.8888888888888888,
              "#fdca26"
             ],
             [
              1,
              "#f0f921"
             ]
            ],
            "type": "histogram2d"
           }
          ],
          "histogram2dcontour": [
           {
            "colorbar": {
             "outlinewidth": 0,
             "ticks": ""
            },
            "colorscale": [
             [
              0,
              "#0d0887"
             ],
             [
              0.1111111111111111,
              "#46039f"
             ],
             [
              0.2222222222222222,
              "#7201a8"
             ],
             [
              0.3333333333333333,
              "#9c179e"
             ],
             [
              0.4444444444444444,
              "#bd3786"
             ],
             [
              0.5555555555555556,
              "#d8576b"
             ],
             [
              0.6666666666666666,
              "#ed7953"
             ],
             [
              0.7777777777777778,
              "#fb9f3a"
             ],
             [
              0.8888888888888888,
              "#fdca26"
             ],
             [
              1,
              "#f0f921"
             ]
            ],
            "type": "histogram2dcontour"
           }
          ],
          "mesh3d": [
           {
            "colorbar": {
             "outlinewidth": 0,
             "ticks": ""
            },
            "type": "mesh3d"
           }
          ],
          "parcoords": [
           {
            "line": {
             "colorbar": {
              "outlinewidth": 0,
              "ticks": ""
             }
            },
            "type": "parcoords"
           }
          ],
          "pie": [
           {
            "automargin": true,
            "type": "pie"
           }
          ],
          "scatter": [
           {
            "marker": {
             "line": {
              "color": "#283442"
             }
            },
            "type": "scatter"
           }
          ],
          "scatter3d": [
           {
            "line": {
             "colorbar": {
              "outlinewidth": 0,
              "ticks": ""
             }
            },
            "marker": {
             "colorbar": {
              "outlinewidth": 0,
              "ticks": ""
             }
            },
            "type": "scatter3d"
           }
          ],
          "scattercarpet": [
           {
            "marker": {
             "colorbar": {
              "outlinewidth": 0,
              "ticks": ""
             }
            },
            "type": "scattercarpet"
           }
          ],
          "scattergeo": [
           {
            "marker": {
             "colorbar": {
              "outlinewidth": 0,
              "ticks": ""
             }
            },
            "type": "scattergeo"
           }
          ],
          "scattergl": [
           {
            "marker": {
             "line": {
              "color": "#283442"
             }
            },
            "type": "scattergl"
           }
          ],
          "scattermapbox": [
           {
            "marker": {
             "colorbar": {
              "outlinewidth": 0,
              "ticks": ""
             }
            },
            "type": "scattermapbox"
           }
          ],
          "scatterpolar": [
           {
            "marker": {
             "colorbar": {
              "outlinewidth": 0,
              "ticks": ""
             }
            },
            "type": "scatterpolar"
           }
          ],
          "scatterpolargl": [
           {
            "marker": {
             "colorbar": {
              "outlinewidth": 0,
              "ticks": ""
             }
            },
            "type": "scatterpolargl"
           }
          ],
          "scatterternary": [
           {
            "marker": {
             "colorbar": {
              "outlinewidth": 0,
              "ticks": ""
             }
            },
            "type": "scatterternary"
           }
          ],
          "surface": [
           {
            "colorbar": {
             "outlinewidth": 0,
             "ticks": ""
            },
            "colorscale": [
             [
              0,
              "#0d0887"
             ],
             [
              0.1111111111111111,
              "#46039f"
             ],
             [
              0.2222222222222222,
              "#7201a8"
             ],
             [
              0.3333333333333333,
              "#9c179e"
             ],
             [
              0.4444444444444444,
              "#bd3786"
             ],
             [
              0.5555555555555556,
              "#d8576b"
             ],
             [
              0.6666666666666666,
              "#ed7953"
             ],
             [
              0.7777777777777778,
              "#fb9f3a"
             ],
             [
              0.8888888888888888,
              "#fdca26"
             ],
             [
              1,
              "#f0f921"
             ]
            ],
            "type": "surface"
           }
          ],
          "table": [
           {
            "cells": {
             "fill": {
              "color": "#506784"
             },
             "line": {
              "color": "rgb(17,17,17)"
             }
            },
            "header": {
             "fill": {
              "color": "#2a3f5f"
             },
             "line": {
              "color": "rgb(17,17,17)"
             }
            },
            "type": "table"
           }
          ]
         },
         "layout": {
          "annotationdefaults": {
           "arrowcolor": "#f2f5fa",
           "arrowhead": 0,
           "arrowwidth": 1
          },
          "autotypenumbers": "strict",
          "coloraxis": {
           "colorbar": {
            "outlinewidth": 0,
            "ticks": ""
           }
          },
          "colorscale": {
           "diverging": [
            [
             0,
             "#8e0152"
            ],
            [
             0.1,
             "#c51b7d"
            ],
            [
             0.2,
             "#de77ae"
            ],
            [
             0.3,
             "#f1b6da"
            ],
            [
             0.4,
             "#fde0ef"
            ],
            [
             0.5,
             "#f7f7f7"
            ],
            [
             0.6,
             "#e6f5d0"
            ],
            [
             0.7,
             "#b8e186"
            ],
            [
             0.8,
             "#7fbc41"
            ],
            [
             0.9,
             "#4d9221"
            ],
            [
             1,
             "#276419"
            ]
           ],
           "sequential": [
            [
             0,
             "#0d0887"
            ],
            [
             0.1111111111111111,
             "#46039f"
            ],
            [
             0.2222222222222222,
             "#7201a8"
            ],
            [
             0.3333333333333333,
             "#9c179e"
            ],
            [
             0.4444444444444444,
             "#bd3786"
            ],
            [
             0.5555555555555556,
             "#d8576b"
            ],
            [
             0.6666666666666666,
             "#ed7953"
            ],
            [
             0.7777777777777778,
             "#fb9f3a"
            ],
            [
             0.8888888888888888,
             "#fdca26"
            ],
            [
             1,
             "#f0f921"
            ]
           ],
           "sequentialminus": [
            [
             0,
             "#0d0887"
            ],
            [
             0.1111111111111111,
             "#46039f"
            ],
            [
             0.2222222222222222,
             "#7201a8"
            ],
            [
             0.3333333333333333,
             "#9c179e"
            ],
            [
             0.4444444444444444,
             "#bd3786"
            ],
            [
             0.5555555555555556,
             "#d8576b"
            ],
            [
             0.6666666666666666,
             "#ed7953"
            ],
            [
             0.7777777777777778,
             "#fb9f3a"
            ],
            [
             0.8888888888888888,
             "#fdca26"
            ],
            [
             1,
             "#f0f921"
            ]
           ]
          },
          "colorway": [
           "#636efa",
           "#EF553B",
           "#00cc96",
           "#ab63fa",
           "#FFA15A",
           "#19d3f3",
           "#FF6692",
           "#B6E880",
           "#FF97FF",
           "#FECB52"
          ],
          "font": {
           "color": "#f2f5fa"
          },
          "geo": {
           "bgcolor": "rgb(17,17,17)",
           "lakecolor": "rgb(17,17,17)",
           "landcolor": "rgb(17,17,17)",
           "showlakes": true,
           "showland": true,
           "subunitcolor": "#506784"
          },
          "hoverlabel": {
           "align": "left"
          },
          "hovermode": "closest",
          "mapbox": {
           "style": "dark"
          },
          "paper_bgcolor": "rgb(17,17,17)",
          "plot_bgcolor": "rgb(17,17,17)",
          "polar": {
           "angularaxis": {
            "gridcolor": "#506784",
            "linecolor": "#506784",
            "ticks": ""
           },
           "bgcolor": "rgb(17,17,17)",
           "radialaxis": {
            "gridcolor": "#506784",
            "linecolor": "#506784",
            "ticks": ""
           }
          },
          "scene": {
           "xaxis": {
            "backgroundcolor": "rgb(17,17,17)",
            "gridcolor": "#506784",
            "gridwidth": 2,
            "linecolor": "#506784",
            "showbackground": true,
            "ticks": "",
            "zerolinecolor": "#C8D4E3"
           },
           "yaxis": {
            "backgroundcolor": "rgb(17,17,17)",
            "gridcolor": "#506784",
            "gridwidth": 2,
            "linecolor": "#506784",
            "showbackground": true,
            "ticks": "",
            "zerolinecolor": "#C8D4E3"
           },
           "zaxis": {
            "backgroundcolor": "rgb(17,17,17)",
            "gridcolor": "#506784",
            "gridwidth": 2,
            "linecolor": "#506784",
            "showbackground": true,
            "ticks": "",
            "zerolinecolor": "#C8D4E3"
           }
          },
          "shapedefaults": {
           "line": {
            "color": "#f2f5fa"
           }
          },
          "sliderdefaults": {
           "bgcolor": "#C8D4E3",
           "bordercolor": "rgb(17,17,17)",
           "borderwidth": 1,
           "tickwidth": 0
          },
          "ternary": {
           "aaxis": {
            "gridcolor": "#506784",
            "linecolor": "#506784",
            "ticks": ""
           },
           "baxis": {
            "gridcolor": "#506784",
            "linecolor": "#506784",
            "ticks": ""
           },
           "bgcolor": "rgb(17,17,17)",
           "caxis": {
            "gridcolor": "#506784",
            "linecolor": "#506784",
            "ticks": ""
           }
          },
          "title": {
           "x": 0.05
          },
          "updatemenudefaults": {
           "bgcolor": "#506784",
           "borderwidth": 0
          },
          "xaxis": {
           "automargin": true,
           "gridcolor": "#283442",
           "linecolor": "#506784",
           "ticks": "",
           "title": {
            "standoff": 15
           },
           "zerolinecolor": "#283442",
           "zerolinewidth": 2
          },
          "yaxis": {
           "automargin": true,
           "gridcolor": "#283442",
           "linecolor": "#506784",
           "ticks": "",
           "title": {
            "standoff": 15
           },
           "zerolinecolor": "#283442",
           "zerolinewidth": 2
          }
         }
        },
        "title": {
         "text": "<b style=\"font-size:20px;\">Clusters of customers</b><br><span style=\"font-size:12px;\">from Mall Customers Dataset</span>"
        },
        "xaxis": {
         "title": {
          "text": "Annual Income (k$)"
         }
        },
        "yaxis": {
         "title": {
          "text": "Spending Score (1-100)"
         }
        }
       }
      }
     },
     "metadata": {},
     "output_type": "display_data"
    }
   ],
   "source": [
    "cluster_colors = ['#6331C5', '#3F7AD8', '#12BF80', '#B715B7', '#F6CB53']\n",
    "\n",
    "# Create a DataFrame for Plotly\n",
    "df = pd.DataFrame({'x': X[:, 0], 'y': X[:, 1], 'cluster': y_kmeans})\n",
    "\n",
    "# Sort the DataFrame by cluster for better visualization\n",
    "df_clustersort = df.sort_values(by='cluster')\n",
    "df_clustersort = df_clustersort.reset_index(drop=True)\n",
    "\n",
    "\n",
    "fig2 = go.Figure()\n",
    "\n",
    "# Add scatter traces for each cluster\n",
    "for cluster, color in zip(df_clustersort['cluster'].unique(), cluster_colors):\n",
    "    cluster_data = df_clustersort[df_clustersort['cluster'] == cluster]\n",
    "    fig2.add_trace(go.Scatter(\n",
    "        x=cluster_data['x'],\n",
    "        y=cluster_data['y'],\n",
    "        mode='markers',\n",
    "        marker=dict(color=color, size=10, line=dict(color='#F2F2F2', width=0.5)),\n",
    "        name=f'Cluster {cluster}',\n",
    "        hovertemplate=f'<extra></extra><b>Cluster {cluster}</b><br>' +\n",
    "                      '<b>Annual Income (k$):</b> %{x}<br>' +\n",
    "                      '<b>Spending Score (1-100)</b>: %{y}'\n",
    "    ))\n",
    "\n",
    "fig2.update_layout(\n",
    "    title='<b style=\"font-size:20px;\">Clusters of customers</b><br><span style=\"font-size:12px;\">from Mall Customers Dataset</span>',\n",
    "    xaxis=dict(title='Annual Income (k$)'),\n",
    "    yaxis=dict(title='Spending Score (1-100)'),\n",
    "    font=dict(family='Montserrat', color='#F2F2F2'),\n",
    "    legend=dict(orientation=\"h\", x=0.63, y=1.13, bgcolor=\"rgba(255, 255, 255, 0.5)\",font=dict(color=\"#262626\")),\n",
    "    template='plotly_dark'\n",
    ")\n",
    "\n",
    "fig2.show()\n",
    "\n",
    "#---------------------------------------------------------------------------------------------------------------------------------------------#\n",
    "# The final figure is displayed, showcasing the clusters of customers based on their annual income and spending score.\n",
    "# This type of visualization helps identify patterns and behaviors of customer segments, enabling the establishment of targeted marketing or \n",
    "# sales strategies based on different customer groups.\n",
    "# In this case, identify the consumption according to annual income, low income is not always low consumption, or high income is reflected in \n",
    "# high consumption.\n",
    "#---------------------------------------------------------------------------------------------------------------------------------------------#"
   ]
  },
  {
   "cell_type": "code",
   "execution_count": 9,
   "metadata": {},
   "outputs": [
    {
     "data": {
      "text/html": [
       "<div>\n",
       "<style scoped>\n",
       "    .dataframe tbody tr th:only-of-type {\n",
       "        vertical-align: middle;\n",
       "    }\n",
       "\n",
       "    .dataframe tbody tr th {\n",
       "        vertical-align: top;\n",
       "    }\n",
       "\n",
       "    .dataframe thead th {\n",
       "        text-align: right;\n",
       "    }\n",
       "</style>\n",
       "<table border=\"1\" class=\"dataframe\">\n",
       "  <thead>\n",
       "    <tr style=\"text-align: right;\">\n",
       "      <th></th>\n",
       "      <th>CustomerID</th>\n",
       "      <th>Genre</th>\n",
       "      <th>Age</th>\n",
       "      <th>Annual Income (k$)</th>\n",
       "      <th>Spending Score (1-100)</th>\n",
       "      <th>cluster</th>\n",
       "    </tr>\n",
       "  </thead>\n",
       "  <tbody>\n",
       "    <tr>\n",
       "      <th>0</th>\n",
       "      <td>1</td>\n",
       "      <td>Male</td>\n",
       "      <td>19</td>\n",
       "      <td>15</td>\n",
       "      <td>39</td>\n",
       "      <td>3</td>\n",
       "    </tr>\n",
       "    <tr>\n",
       "      <th>1</th>\n",
       "      <td>2</td>\n",
       "      <td>Male</td>\n",
       "      <td>21</td>\n",
       "      <td>15</td>\n",
       "      <td>81</td>\n",
       "      <td>4</td>\n",
       "    </tr>\n",
       "    <tr>\n",
       "      <th>2</th>\n",
       "      <td>3</td>\n",
       "      <td>Female</td>\n",
       "      <td>20</td>\n",
       "      <td>16</td>\n",
       "      <td>6</td>\n",
       "      <td>3</td>\n",
       "    </tr>\n",
       "    <tr>\n",
       "      <th>3</th>\n",
       "      <td>4</td>\n",
       "      <td>Female</td>\n",
       "      <td>23</td>\n",
       "      <td>16</td>\n",
       "      <td>77</td>\n",
       "      <td>4</td>\n",
       "    </tr>\n",
       "    <tr>\n",
       "      <th>4</th>\n",
       "      <td>5</td>\n",
       "      <td>Female</td>\n",
       "      <td>31</td>\n",
       "      <td>17</td>\n",
       "      <td>40</td>\n",
       "      <td>3</td>\n",
       "    </tr>\n",
       "  </tbody>\n",
       "</table>\n",
       "</div>"
      ],
      "text/plain": [
       "   CustomerID   Genre  Age  Annual Income (k$)  Spending Score (1-100)  \\\n",
       "0           1    Male   19                  15                      39   \n",
       "1           2    Male   21                  15                      81   \n",
       "2           3  Female   20                  16                       6   \n",
       "3           4  Female   23                  16                      77   \n",
       "4           5  Female   31                  17                      40   \n",
       "\n",
       "   cluster  \n",
       "0        3  \n",
       "1        4  \n",
       "2        3  \n",
       "3        4  \n",
       "4        3  "
      ]
     },
     "execution_count": 9,
     "metadata": {},
     "output_type": "execute_result"
    }
   ],
   "source": [
    "#---------------------------------------------------------------------------------------------------------------------------------------------#\n",
    "# # A step like this can be important for identifying age groups or gender associated with each cluster, facilitating decision-making in \n",
    "# marketing campaigns.\n",
    "#---------------------------------------------------------------------------------------------------------------------------------------------#\n",
    "labels = kmeansmodel.labels_\n",
    "b = dataset.copy()\n",
    "b['cluster'] = labels\n",
    "b.head()\n",
    "#---------------------------------------------------------------------------------------------------------------------------------------------#\n",
    "# Now, DataFrame b contains the original data along with the assigned cluster labels, making it easier to analyze and interpret the \n",
    "# characteristics of each cluster. This information can be used for targeted marketing strategies, such as tailoring campaigns based on the \n",
    "# specific preferences or behaviors of each customer segment. \n",
    "# It could enable businesses to adapt their sales strategies based on the characteristics of different customer groups, potentially leading \n",
    "# to cost reductions and more effective campaigns.\n",
    "#---------------------------------------------------------------------------------------------------------------------------------------------#"
   ]
  },
  {
   "cell_type": "code",
   "execution_count": 10,
   "metadata": {},
   "outputs": [
    {
     "data": {
      "text/html": [
       "<div>\n",
       "<style scoped>\n",
       "    .dataframe tbody tr th:only-of-type {\n",
       "        vertical-align: middle;\n",
       "    }\n",
       "\n",
       "    .dataframe tbody tr th {\n",
       "        vertical-align: top;\n",
       "    }\n",
       "\n",
       "    .dataframe thead th {\n",
       "        text-align: right;\n",
       "    }\n",
       "</style>\n",
       "<table border=\"1\" class=\"dataframe\">\n",
       "  <thead>\n",
       "    <tr style=\"text-align: right;\">\n",
       "      <th></th>\n",
       "      <th>cluster</th>\n",
       "      <th>Annual Income (k$)</th>\n",
       "      <th>Spending Score (1-100)</th>\n",
       "      <th>Age</th>\n",
       "    </tr>\n",
       "  </thead>\n",
       "  <tbody>\n",
       "    <tr>\n",
       "      <th>0</th>\n",
       "      <td>0</td>\n",
       "      <td>55.296296</td>\n",
       "      <td>49.518519</td>\n",
       "      <td>42.716049</td>\n",
       "    </tr>\n",
       "    <tr>\n",
       "      <th>1</th>\n",
       "      <td>1</td>\n",
       "      <td>86.538462</td>\n",
       "      <td>82.128205</td>\n",
       "      <td>32.692308</td>\n",
       "    </tr>\n",
       "    <tr>\n",
       "      <th>2</th>\n",
       "      <td>2</td>\n",
       "      <td>88.200000</td>\n",
       "      <td>17.114286</td>\n",
       "      <td>41.114286</td>\n",
       "    </tr>\n",
       "    <tr>\n",
       "      <th>3</th>\n",
       "      <td>3</td>\n",
       "      <td>26.304348</td>\n",
       "      <td>20.913043</td>\n",
       "      <td>45.217391</td>\n",
       "    </tr>\n",
       "    <tr>\n",
       "      <th>4</th>\n",
       "      <td>4</td>\n",
       "      <td>25.727273</td>\n",
       "      <td>79.363636</td>\n",
       "      <td>25.272727</td>\n",
       "    </tr>\n",
       "  </tbody>\n",
       "</table>\n",
       "</div>"
      ],
      "text/plain": [
       "   cluster  Annual Income (k$)  Spending Score (1-100)        Age\n",
       "0        0           55.296296               49.518519  42.716049\n",
       "1        1           86.538462               82.128205  32.692308\n",
       "2        2           88.200000               17.114286  41.114286\n",
       "3        3           26.304348               20.913043  45.217391\n",
       "4        4           25.727273               79.363636  25.272727"
      ]
     },
     "execution_count": 10,
     "metadata": {},
     "output_type": "execute_result"
    }
   ],
   "source": [
    "c = b.groupby(['cluster'])[['Annual Income (k$)', 'Spending Score (1-100)', 'Age']].mean().reset_index()\n",
    "c.head()\n",
    "#---------------------------------------------------------------------------------------------------------------------------------------------#\n",
    "# DataFrame c contains information about the average annual income, spending score, and age for each cluster. This type of analysis is useful \n",
    "# for gaining insights into the distinct characteristics of different customer segments identified by the clustering algorithm. This \n",
    "# information could use to tailor strategies based on the preferences and behaviors of each cluster, improving marketing campaigns and \n",
    "# customer engagement. The same approach can be applied to various types of data analysis, including demographic studies and medical research, \n",
    "# for example, identifying age groups where the adverse effects of a vaccine can be concentrated.\n",
    "#---------------------------------------------------------------------------------------------------------------------------------------------#"
   ]
  },
  {
   "cell_type": "code",
   "execution_count": 11,
   "metadata": {},
   "outputs": [
    {
     "data": {
      "text/html": [
       "<div>\n",
       "<style scoped>\n",
       "    .dataframe tbody tr th:only-of-type {\n",
       "        vertical-align: middle;\n",
       "    }\n",
       "\n",
       "    .dataframe tbody tr th {\n",
       "        vertical-align: top;\n",
       "    }\n",
       "\n",
       "    .dataframe thead th {\n",
       "        text-align: right;\n",
       "    }\n",
       "</style>\n",
       "<table border=\"1\" class=\"dataframe\">\n",
       "  <thead>\n",
       "    <tr style=\"text-align: right;\">\n",
       "      <th></th>\n",
       "      <th>cluster</th>\n",
       "      <th>CustomerID</th>\n",
       "    </tr>\n",
       "  </thead>\n",
       "  <tbody>\n",
       "    <tr>\n",
       "      <th>0</th>\n",
       "      <td>0</td>\n",
       "      <td>81</td>\n",
       "    </tr>\n",
       "    <tr>\n",
       "      <th>1</th>\n",
       "      <td>1</td>\n",
       "      <td>39</td>\n",
       "    </tr>\n",
       "    <tr>\n",
       "      <th>2</th>\n",
       "      <td>2</td>\n",
       "      <td>35</td>\n",
       "    </tr>\n",
       "    <tr>\n",
       "      <th>3</th>\n",
       "      <td>3</td>\n",
       "      <td>23</td>\n",
       "    </tr>\n",
       "    <tr>\n",
       "      <th>4</th>\n",
       "      <td>4</td>\n",
       "      <td>22</td>\n",
       "    </tr>\n",
       "  </tbody>\n",
       "</table>\n",
       "</div>"
      ],
      "text/plain": [
       "   cluster  CustomerID\n",
       "0        0          81\n",
       "1        1          39\n",
       "2        2          35\n",
       "3        3          23\n",
       "4        4          22"
      ]
     },
     "execution_count": 11,
     "metadata": {},
     "output_type": "execute_result"
    }
   ],
   "source": [
    "# Group by cluster and count the number of clients in each cluster\n",
    "d = b.groupby(['cluster'])[['CustomerID']].count().reset_index()\n",
    "d.head()\n",
    "#---------------------------------------------------------------------------------------------------------------------------------------------#\n",
    "# DataFrame d contains information about the number of customers in each cluster. By calculating the percentage of customers in each cluster, \n",
    "# be could prioritize efforts and resources towards the most significant customer segments. This knowledge aids in targeted marketing, \n",
    "# customer retention strategies, and overall business decision-making.\n",
    "#---------------------------------------------------------------------------------------------------------------------------------------------#"
   ]
  },
  {
   "cell_type": "code",
   "execution_count": 12,
   "metadata": {},
   "outputs": [
    {
     "data": {
      "text/html": [
       "<div>\n",
       "<style scoped>\n",
       "    .dataframe tbody tr th:only-of-type {\n",
       "        vertical-align: middle;\n",
       "    }\n",
       "\n",
       "    .dataframe tbody tr th {\n",
       "        vertical-align: top;\n",
       "    }\n",
       "\n",
       "    .dataframe thead th {\n",
       "        text-align: right;\n",
       "    }\n",
       "</style>\n",
       "<table border=\"1\" class=\"dataframe\">\n",
       "  <thead>\n",
       "    <tr style=\"text-align: right;\">\n",
       "      <th></th>\n",
       "      <th>cluster</th>\n",
       "      <th>Annual Income (k$)</th>\n",
       "      <th>Spending Score (1-100)</th>\n",
       "      <th>Age</th>\n",
       "      <th>CustomerID</th>\n",
       "      <th>%CustomerID</th>\n",
       "    </tr>\n",
       "  </thead>\n",
       "  <tbody>\n",
       "    <tr>\n",
       "      <th>0</th>\n",
       "      <td>0</td>\n",
       "      <td>55.296296</td>\n",
       "      <td>50.0</td>\n",
       "      <td>43.0</td>\n",
       "      <td>81</td>\n",
       "      <td>40.5</td>\n",
       "    </tr>\n",
       "    <tr>\n",
       "      <th>1</th>\n",
       "      <td>1</td>\n",
       "      <td>86.538462</td>\n",
       "      <td>82.0</td>\n",
       "      <td>33.0</td>\n",
       "      <td>39</td>\n",
       "      <td>19.5</td>\n",
       "    </tr>\n",
       "    <tr>\n",
       "      <th>2</th>\n",
       "      <td>2</td>\n",
       "      <td>88.200000</td>\n",
       "      <td>17.0</td>\n",
       "      <td>41.0</td>\n",
       "      <td>35</td>\n",
       "      <td>17.5</td>\n",
       "    </tr>\n",
       "    <tr>\n",
       "      <th>3</th>\n",
       "      <td>3</td>\n",
       "      <td>26.304348</td>\n",
       "      <td>21.0</td>\n",
       "      <td>45.0</td>\n",
       "      <td>23</td>\n",
       "      <td>11.5</td>\n",
       "    </tr>\n",
       "    <tr>\n",
       "      <th>4</th>\n",
       "      <td>4</td>\n",
       "      <td>25.727273</td>\n",
       "      <td>79.0</td>\n",
       "      <td>25.0</td>\n",
       "      <td>22</td>\n",
       "      <td>11.0</td>\n",
       "    </tr>\n",
       "  </tbody>\n",
       "</table>\n",
       "</div>"
      ],
      "text/plain": [
       "   cluster  Annual Income (k$)  Spending Score (1-100)   Age  CustomerID  \\\n",
       "0        0           55.296296                    50.0  43.0          81   \n",
       "1        1           86.538462                    82.0  33.0          39   \n",
       "2        2           88.200000                    17.0  41.0          35   \n",
       "3        3           26.304348                    21.0  45.0          23   \n",
       "4        4           25.727273                    79.0  25.0          22   \n",
       "\n",
       "   %CustomerID  \n",
       "0         40.5  \n",
       "1         19.5  \n",
       "2         17.5  \n",
       "3         11.5  \n",
       "4         11.0  "
      ]
     },
     "execution_count": 12,
     "metadata": {},
     "output_type": "execute_result"
    }
   ],
   "source": [
    "# Merge DataFrames c and d by the 'cluster' column\n",
    "segcustomers = c.merge(d,on='cluster',how='left')\n",
    "# Calculate the percentage of clients in each cluster\n",
    "segcustomers['%CustomerID']=segcustomers['CustomerID']*100/segcustomers['CustomerID'].sum()\n",
    "segcustomers['Age']=segcustomers['Age'].round()\n",
    "segcustomers['Spending Score (1-100)']=segcustomers['Spending Score (1-100)'].round()\n",
    "segcustomers.head()\n",
    "#---------------------------------------------------------------------------------------------------------------------------------------------#\n",
    "# \"segcustomers\" contains a consolidated view of the average annual income, spending score, and age, along with the count and percentage of \n",
    "# customers in each cluster. This type of information is valuable for strategic decision-making, allowing to focus on clusters with the most \n",
    "# significant impact on customer base.\n",
    "#---------------------------------------------------------------------------------------------------------------------------------------------#"
   ]
  },
  {
   "cell_type": "code",
   "execution_count": 13,
   "metadata": {},
   "outputs": [
    {
     "data": {
      "text/html": [
       "<div>\n",
       "<style scoped>\n",
       "    .dataframe tbody tr th:only-of-type {\n",
       "        vertical-align: middle;\n",
       "    }\n",
       "\n",
       "    .dataframe tbody tr th {\n",
       "        vertical-align: top;\n",
       "    }\n",
       "\n",
       "    .dataframe thead th {\n",
       "        text-align: right;\n",
       "    }\n",
       "</style>\n",
       "<table border=\"1\" class=\"dataframe\">\n",
       "  <thead>\n",
       "    <tr style=\"text-align: right;\">\n",
       "      <th></th>\n",
       "      <th>cluster</th>\n",
       "      <th>Female</th>\n",
       "      <th>Male</th>\n",
       "    </tr>\n",
       "  </thead>\n",
       "  <tbody>\n",
       "    <tr>\n",
       "      <th>0</th>\n",
       "      <td>0</td>\n",
       "      <td>48</td>\n",
       "      <td>33</td>\n",
       "    </tr>\n",
       "    <tr>\n",
       "      <th>1</th>\n",
       "      <td>1</td>\n",
       "      <td>21</td>\n",
       "      <td>18</td>\n",
       "    </tr>\n",
       "    <tr>\n",
       "      <th>2</th>\n",
       "      <td>2</td>\n",
       "      <td>16</td>\n",
       "      <td>19</td>\n",
       "    </tr>\n",
       "    <tr>\n",
       "      <th>3</th>\n",
       "      <td>3</td>\n",
       "      <td>14</td>\n",
       "      <td>9</td>\n",
       "    </tr>\n",
       "    <tr>\n",
       "      <th>4</th>\n",
       "      <td>4</td>\n",
       "      <td>13</td>\n",
       "      <td>9</td>\n",
       "    </tr>\n",
       "  </tbody>\n",
       "</table>\n",
       "</div>"
      ],
      "text/plain": [
       "   cluster  Female  Male\n",
       "0        0      48    33\n",
       "1        1      21    18\n",
       "2        2      16    19\n",
       "3        3      14     9\n",
       "4        4      13     9"
      ]
     },
     "execution_count": 13,
     "metadata": {},
     "output_type": "execute_result"
    }
   ],
   "source": [
    "# Group by cluster and gender, count the number of clients in each combination\n",
    "genre=b.groupby(['cluster','Genre'])['CustomerID'].count().reset_index()\n",
    "# Creating a Pivot Table to visualize the distribution of gender in each cluster.\n",
    "genre=pd.pivot_table(genre,values='CustomerID',index=['cluster'],columns=['Genre'],aggfunc=np.sum)\n",
    "genre=genre.reset_index()\n",
    "genre.columns.name = None\n",
    "genre=genre[['cluster','Female','Male']]\n",
    "genre.head()\n",
    "#---------------------------------------------------------------------------------------------------------------------------------------------#\n",
    "# \"genre\" contains a breakdown of the customer count by gender within each cluster. This information is useful for understanding gender \n",
    "# distribution patterns in different customer segments, allowing to tailor marketing strategies to specific subgroups within each cluster.\n",
    "#---------------------------------------------------------------------------------------------------------------------------------------------#"
   ]
  },
  {
   "cell_type": "code",
   "execution_count": 14,
   "metadata": {},
   "outputs": [
    {
     "data": {
      "text/html": [
       "<div>\n",
       "<style scoped>\n",
       "    .dataframe tbody tr th:only-of-type {\n",
       "        vertical-align: middle;\n",
       "    }\n",
       "\n",
       "    .dataframe tbody tr th {\n",
       "        vertical-align: top;\n",
       "    }\n",
       "\n",
       "    .dataframe thead th {\n",
       "        text-align: right;\n",
       "    }\n",
       "</style>\n",
       "<table border=\"1\" class=\"dataframe\">\n",
       "  <thead>\n",
       "    <tr style=\"text-align: right;\">\n",
       "      <th></th>\n",
       "      <th>cluster</th>\n",
       "      <th>Annual Income (k$)</th>\n",
       "      <th>Spending Score (1-100)</th>\n",
       "      <th>Age</th>\n",
       "      <th>%CustomerID</th>\n",
       "      <th>%Female</th>\n",
       "      <th>%Male</th>\n",
       "    </tr>\n",
       "  </thead>\n",
       "  <tbody>\n",
       "    <tr>\n",
       "      <th>0</th>\n",
       "      <td>0</td>\n",
       "      <td>55.296296</td>\n",
       "      <td>50.0</td>\n",
       "      <td>43.0</td>\n",
       "      <td>40.5</td>\n",
       "      <td>59.259259</td>\n",
       "      <td>40.740741</td>\n",
       "    </tr>\n",
       "    <tr>\n",
       "      <th>1</th>\n",
       "      <td>1</td>\n",
       "      <td>86.538462</td>\n",
       "      <td>82.0</td>\n",
       "      <td>33.0</td>\n",
       "      <td>19.5</td>\n",
       "      <td>53.846154</td>\n",
       "      <td>46.153846</td>\n",
       "    </tr>\n",
       "    <tr>\n",
       "      <th>2</th>\n",
       "      <td>2</td>\n",
       "      <td>88.200000</td>\n",
       "      <td>17.0</td>\n",
       "      <td>41.0</td>\n",
       "      <td>17.5</td>\n",
       "      <td>45.714286</td>\n",
       "      <td>54.285714</td>\n",
       "    </tr>\n",
       "    <tr>\n",
       "      <th>3</th>\n",
       "      <td>3</td>\n",
       "      <td>26.304348</td>\n",
       "      <td>21.0</td>\n",
       "      <td>45.0</td>\n",
       "      <td>11.5</td>\n",
       "      <td>60.869565</td>\n",
       "      <td>39.130435</td>\n",
       "    </tr>\n",
       "    <tr>\n",
       "      <th>4</th>\n",
       "      <td>4</td>\n",
       "      <td>25.727273</td>\n",
       "      <td>79.0</td>\n",
       "      <td>25.0</td>\n",
       "      <td>11.0</td>\n",
       "      <td>59.090909</td>\n",
       "      <td>40.909091</td>\n",
       "    </tr>\n",
       "  </tbody>\n",
       "</table>\n",
       "</div>"
      ],
      "text/plain": [
       "   cluster  Annual Income (k$)  Spending Score (1-100)   Age  %CustomerID  \\\n",
       "0        0           55.296296                    50.0  43.0         40.5   \n",
       "1        1           86.538462                    82.0  33.0         19.5   \n",
       "2        2           88.200000                    17.0  41.0         17.5   \n",
       "3        3           26.304348                    21.0  45.0         11.5   \n",
       "4        4           25.727273                    79.0  25.0         11.0   \n",
       "\n",
       "     %Female      %Male  \n",
       "0  59.259259  40.740741  \n",
       "1  53.846154  46.153846  \n",
       "2  45.714286  54.285714  \n",
       "3  60.869565  39.130435  \n",
       "4  59.090909  40.909091  "
      ]
     },
     "execution_count": 14,
     "metadata": {},
     "output_type": "execute_result"
    }
   ],
   "source": [
    "# Merge the segcustomers and genre DataFrames by the 'cluster' column\n",
    "segcusbygenre=segcustomers.merge(genre,on='cluster',how='left')\n",
    "# Calculate the percentage of female and male customers in each cluster\n",
    "segcusbygenre['%Female']=(segcusbygenre['Female']*100)/segcusbygenre['CustomerID']\n",
    "segcusbygenre['%Male']=(segcusbygenre['Male']*100)/segcusbygenre['CustomerID']\n",
    "segcusbygenre=segcusbygenre[['cluster','Annual Income (k$)','Spending Score (1-100)','Age','%CustomerID','%Female','%Male']]\n",
    "segcusbygenre.head()\n",
    "#---------------------------------------------------------------------------------------------------------------------------------------------#\n",
    "# \"segcusbygenre\" contains information about the average annual income, spending score, and age, along with the percentage of female and male \n",
    "# customers in each cluster. In this case, the information could be useful for refining marketing strategies based on both demographic and \n",
    "# behavioral characteristics within each customer segment.\n",
    "#---------------------------------------------------------------------------------------------------------------------------------------------#"
   ]
  },
  {
   "cell_type": "markdown",
   "metadata": {},
   "source": [
    "## Saving Graphics"
   ]
  },
  {
   "cell_type": "markdown",
   "metadata": {},
   "source": [
    "Add custom styles with Montserrat font to the HTML file"
   ]
  },
  {
   "cell_type": "code",
   "execution_count": 15,
   "metadata": {},
   "outputs": [],
   "source": [
    "styles = \"\"\"\n",
    "        <link href=\"https://fonts.googleapis.com/css2?family=Montserrat:wght@400;700&display=swap\" rel=\"stylesheet\">\n",
    "        <style>\n",
    "            body {\n",
    "                font-family: 'Montserrat', sans-serif;\n",
    "            }\n",
    "        </style>\n",
    "    \"\"\""
   ]
  },
  {
   "cell_type": "code",
   "execution_count": 16,
   "metadata": {},
   "outputs": [],
   "source": [
    "fig1.write_html(\"./HTMLs/TheElbowMethod_MLCustomers.html\")\n",
    "\n",
    "with open(\"./HTMLs/TheElbowMethod_MLCustomers.html\", \"r\", encoding=\"utf-8\") as file:\n",
    "    content = file.read()\n",
    "\n",
    "content = content.replace(\"</head>\", styles + \"</head>\")\n",
    "\n",
    "with open(\"./HTMLs/TheElbowMethod_MLCustomers.html\", \"w\", encoding=\"utf-8\") as file:\n",
    "    file.write(content)\n",
    "    \n",
    "fig2.write_html(\"./HTMLs/ClustersMallCustomers.html\")\n",
    "\n",
    "with open(\"./HTMLs/ClustersMallCustomers.html\", \"r\", encoding=\"utf-8\") as file:\n",
    "    content = file.read()\n",
    "\n",
    "content = content.replace(\"</head>\", styles + \"</head>\")\n",
    "\n",
    "with open(\"./HTMLs/ClustersMallCustomers.html\", \"w\", encoding=\"utf-8\") as file:\n",
    "    file.write(content)"
   ]
  }
 ],
 "metadata": {
  "kernelspec": {
   "display_name": "venv",
   "language": "python",
   "name": "python3"
  },
  "language_info": {
   "codemirror_mode": {
    "name": "ipython",
    "version": 3
   },
   "file_extension": ".py",
   "mimetype": "text/x-python",
   "name": "python",
   "nbconvert_exporter": "python",
   "pygments_lexer": "ipython3",
   "version": "3.11.6"
  }
 },
 "nbformat": 4,
 "nbformat_minor": 2
}
